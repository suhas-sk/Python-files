{
 "cells": [
  {
   "cell_type": "code",
   "execution_count": 1,
   "metadata": {},
   "outputs": [
    {
     "name": "stdout",
     "output_type": "stream",
     "text": [
      "Suhas 2                       | \n",
      "Redmi 5A                      | ........\n",
      "Suhas                         | rohini96\n",
      "Redmi                         | \n",
      "Harshada                      | harshada\n",
      "r                             | vivoz1pro\n",
      "Manohara2 D                   | 1122111221\n",
      "Manohara2 E                   | 1122111221\n",
      "Manohara3 C                   | 1122111221\n",
      "thirumala 5A                  | 8884886699\n",
      "PUNE_LES                      | Pune@123\n"
     ]
    }
   ],
   "source": [
    "import subprocess as sub\n",
    "a = sub.check_output(['netsh','wlan','show','profiles']).decode('utf-8').split('\\n')\n",
    "a = [i.split(\":\")[1][1:-1] for i in a if \"All User Profile\" in i ]\n",
    "\n",
    "for i in a :\n",
    "    res = sub.check_output(['netsh','wlan','show','profiles',i,'key=clear']).decode('utf-8').split('\\n')\n",
    "    res = [b.split(\":\")[1][1:-1] for b in res if \"Key Content\" in b ]\n",
    "\n",
    "    try:\n",
    "        print(\"{:<30}| {:<}\".format(i,res[0]))\n",
    "    except IndexError:\n",
    "        print(\"{:<30}| {:<}\".format(i,\"\"))\n",
    "    "
   ]
  },
  {
   "cell_type": "code",
   "execution_count": 1,
   "metadata": {},
   "outputs": [
    {
     "ename": "ModuleNotFoundError",
     "evalue": "No module named 'pywhatkit'",
     "output_type": "error",
     "traceback": [
      "\u001b[1;31m---------------------------------------------------------------------------\u001b[0m",
      "\u001b[1;31mModuleNotFoundError\u001b[0m                       Traceback (most recent call last)",
      "\u001b[1;32m<ipython-input-1-477df8ad5a86>\u001b[0m in \u001b[0;36m<module>\u001b[1;34m\u001b[0m\n\u001b[1;32m----> 1\u001b[1;33m \u001b[1;32mimport\u001b[0m \u001b[0mpywhatkit\u001b[0m \u001b[1;32mas\u001b[0m \u001b[0mkit\u001b[0m\u001b[1;33m\u001b[0m\u001b[1;33m\u001b[0m\u001b[0m\n\u001b[0m\u001b[0;32m      2\u001b[0m \u001b[1;33m\u001b[0m\u001b[0m\n\u001b[0;32m      3\u001b[0m \u001b[0mkit\u001b[0m\u001b[1;33m.\u001b[0m\u001b[0mshowHistory\u001b[0m\u001b[1;33m(\u001b[0m\u001b[1;33m)\u001b[0m \u001b[1;31m#shows the history\u001b[0m\u001b[1;33m\u001b[0m\u001b[1;33m\u001b[0m\u001b[0m\n\u001b[0;32m      4\u001b[0m \u001b[1;33m\u001b[0m\u001b[0m\n\u001b[0;32m      5\u001b[0m \u001b[0mkit\u001b[0m\u001b[1;33m.\u001b[0m\u001b[0mplayonyt\u001b[0m\u001b[1;33m(\u001b[0m\u001b[1;34m\"Dus Bahane\"\u001b[0m\u001b[1;33m)\u001b[0m \u001b[1;31m#plays Youtube videos\u001b[0m\u001b[1;33m\u001b[0m\u001b[1;33m\u001b[0m\u001b[0m\n",
      "\u001b[1;31mModuleNotFoundError\u001b[0m: No module named 'pywhatkit'"
     ]
    }
   ],
   "source": [
    "import pywhatkit as kit\n",
    "\n",
    "kit.showHistory() #shows the history\n",
    "\n",
    "kit.playonyt(\"Dus Bahane\") #plays Youtube videos\n",
    "\n",
    "kit.search(\"Python\")  #perfomrs a google search\n",
    "\n",
    "pywhatkit.info(\"Python\",lines=3,speak=None)#Will give information about the topic\n"
   ]
  },
  {
   "cell_type": "code",
   "execution_count": 30,
   "metadata": {},
   "outputs": [
    {
     "name": "stdout",
     "output_type": "stream",
     "text": [
      "Download : 5002316.875281944\n",
      "Upload : 5073678.705585928\n",
      "Ping : 20.081\n"
     ]
    }
   ],
   "source": [
    "from speedtest import Speedtest as spd\n",
    "st=spd()\n",
    "\n",
    "print(\"Download :\",st.download())\n",
    "print(\"Upload :\",st.upload())\n",
    "\n",
    "st.get_servers([])\n",
    "print(\"Ping :\",st.results.ping)"
   ]
  }
 ],
 "metadata": {
  "kernelspec": {
   "display_name": "Python 3",
   "language": "python",
   "name": "python3"
  },
  "language_info": {
   "codemirror_mode": {
    "name": "ipython",
    "version": 3
   },
   "file_extension": ".py",
   "mimetype": "text/x-python",
   "name": "python",
   "nbconvert_exporter": "python",
   "pygments_lexer": "ipython3",
   "version": "3.7.6"
  }
 },
 "nbformat": 4,
 "nbformat_minor": 2
}
