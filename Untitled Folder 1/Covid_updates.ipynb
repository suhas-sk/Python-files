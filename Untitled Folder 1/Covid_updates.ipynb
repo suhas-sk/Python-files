{
 "cells": [
  {
   "cell_type": "code",
   "execution_count": 2,
   "metadata": {},
   "outputs": [
    {
     "data": {
      "text/plain": [
       "'\\ncovid = Covid()\\ncovid.get_data()\\nc = covid.list_countries()\\nprint(c)\\n'"
      ]
     },
     "execution_count": 2,
     "metadata": {},
     "output_type": "execute_result"
    }
   ],
   "source": [
    "import covid\n",
    "from covid import Covid\n",
    "from datetime import datetime as dt\n",
    "\n",
    "\"\"\"\n",
    "covid = Covid()\n",
    "covid.get_data()\n",
    "c = covid.list_countries()\n",
    "print(c)\n",
    "\"\"\""
   ]
  },
  {
   "cell_type": "code",
   "execution_count": 3,
   "metadata": {},
   "outputs": [],
   "source": [
    "#Defining covidupdatesWorldWide()\n",
    "def covidUpdatesWorldWide():\n",
    "    #Fetch number of active,confirmed cases and total number of recovered and deaths\n",
    "    worldwide_total_active_cases = Covid().get_total_active_cases()\n",
    "    worldwide_total_confirmed_cases = Covid().get_total_confirmed_cases()\n",
    "    worldwide_total_recovered = Covid().get_total_recovered()\n",
    "    worldwide_total_deaths = Covid().get_total_deaths()\n",
    "    \n",
    "    #Printing the results\n",
    "    print(\"\\nWORLDWIDE COVID INFORMATION\")\n",
    "    print(\"___________________________________\")\n",
    "    print(\"TOTAL ACTIVE: \" + str(worldwide_total_active_cases))\n",
    "    print(\"TOTAL CONFIRMED: \" + str(worldwide_total_confirmed_cases))\n",
    "    print(\"TOTAL RECOVERED: \" + str(worldwide_total_recovered))\n",
    "    print(\"TOTAL DEATHS: \" + str(worldwide_total_deaths))\n",
    "    print(\"___________________________________\")\n"
   ]
  },
  {
   "cell_type": "code",
   "execution_count": 4,
   "metadata": {},
   "outputs": [],
   "source": [
    "#Defining covidupdatesSpecificCountry() paasing country name as argument \n",
    "def covidUpdatesSpecificCountry(country):\n",
    "    specific_country_covid_info = Covid().get_status_by_country_name(country)\n",
    "    \n",
    "    country_total_active_cases = specific_country_covid_info['active']\n",
    "    country_total_confirmed_cases = specific_country_covid_info['confirmed']\n",
    "    country_total_recovered = specific_country_covid_info['recovered']\n",
    "    country_total_deaths = specific_country_covid_info['deaths']\n",
    "    \n",
    "    updated_time_epoch = specific_country_covid_info['last_update']\n",
    "    data_updated_at = dt.fromtimestamp(updated_time_epoch/1000)\n",
    "    \n",
    "    #Printing the results\n",
    "    print(\"\\n\" + country + \" COVID INFORMATION\")\n",
    "    print(\"___________________________________\")\n",
    "    print(\"TOTAL ACTIVE: \" + str(country_total_active_cases))\n",
    "    print(\"TOTAL CONFIRMED: \" + str(country_total_confirmed_cases))\n",
    "    print(\"TOTAL RECOVERED: \" + str(country_total_recovered))\n",
    "    print(\"TOTAL DEATHS: \" + str(country_total_deaths))\n",
    "    print(\"LAST UPDATED AT: \" + str(data_updated_at))\n",
    "    print(\"___________________________________\")"
   ]
  },
  {
   "cell_type": "code",
   "execution_count": 5,
   "metadata": {},
   "outputs": [
    {
     "name": "stdout",
     "output_type": "stream",
     "text": [
      "\n",
      "WORLDWIDE COVID INFORMATION\n",
      "___________________________________\n",
      "TOTAL ACTIVE: 4426572\n",
      "TOTAL CONFIRMED: 10154984\n",
      "TOTAL RECOVERED: 5147436\n",
      "TOTAL DEATHS: 502048\n",
      "___________________________________\n",
      "\n",
      "Enter the Country's Name: US\n",
      "\n",
      "US COVID INFORMATION\n",
      "___________________________________\n",
      "TOTAL ACTIVE: 1659174\n",
      "TOTAL CONFIRMED: 2549069\n",
      "TOTAL RECOVERED: 685164\n",
      "TOTAL DEATHS: 125803\n",
      "LAST UPDATED AT: 2020-06-29 14:03:46\n",
      "___________________________________\n"
     ]
    }
   ],
   "source": [
    "#Driver cod efor testing\n",
    "covidUpdatesWorldWide()\n",
    "country = input(\"\\nEnter the Country's Name: \")\n",
    "covidUpdatesSpecificCountry(country)"
   ]
  },
  {
   "cell_type": "code",
   "execution_count": null,
   "metadata": {},
   "outputs": [],
   "source": []
  },
  {
   "cell_type": "code",
   "execution_count": null,
   "metadata": {},
   "outputs": [],
   "source": []
  }
 ],
 "metadata": {
  "kernelspec": {
   "display_name": "Python 3",
   "language": "python",
   "name": "python3"
  }
 },
 "nbformat": 4,
 "nbformat_minor": 2
}
