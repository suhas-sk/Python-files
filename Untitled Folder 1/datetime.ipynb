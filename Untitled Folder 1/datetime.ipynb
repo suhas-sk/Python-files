{
 "cells": [
  {
   "cell_type": "code",
   "execution_count": 3,
   "metadata": {},
   "outputs": [
    {
     "name": "stdout",
     "output_type": "stream",
     "text": [
      "1591603809.3939805\n",
      "time.struct_time(tm_year=2020, tm_mon=6, tm_mday=8, tm_hour=13, tm_min=40, tm_sec=9, tm_wday=0, tm_yday=160, tm_isdst=0)\n"
     ]
    }
   ],
   "source": [
    "import time \n",
    "print(time.time()) #prints the no. of seconds spent since 12 AM, 1st Jan 1970"
   ]
  },
  {
   "cell_type": "code",
   "execution_count": 4,
   "metadata": {},
   "outputs": [
    {
     "name": "stdout",
     "output_type": "stream",
     "text": [
      "time.struct_time(tm_year=2020, tm_mon=6, tm_mday=8, tm_hour=13, tm_min=40, tm_sec=32, tm_wday=0, tm_yday=160, tm_isdst=0)\n"
     ]
    }
   ],
   "source": [
    "print(time.localtime(time.time())) #prints entire info of day like day,time,seonds, week,year"
   ]
  },
  {
   "cell_type": "code",
   "execution_count": 15,
   "metadata": {},
   "outputs": [
    {
     "name": "stdout",
     "output_type": "stream",
     "text": [
      "0 1 2 3 4 "
     ]
    }
   ],
   "source": [
    "for i in range(0,5):\n",
    "    print(i,end=\" \")\n",
    "    time.sleep(1.5) #each element will be printed after 1.5 seconds"
   ]
  },
  {
   "cell_type": "code",
   "execution_count": 16,
   "metadata": {
    "scrolled": true
   },
   "outputs": [
    {
     "name": "stdout",
     "output_type": "stream",
     "text": [
      "2020-06-08 13:44:23.415150\n"
     ]
    }
   ],
   "source": [
    "import datetime\n",
    "print(datetime.datetime.now())  #prints the  instant date nad time "
   ]
  },
  {
   "cell_type": "code",
   "execution_count": 25,
   "metadata": {},
   "outputs": [
    {
     "name": "stdout",
     "output_type": "stream",
     "text": [
      "Enter your mobile number with country code: +91 9822890892\n",
      "Idea\n"
     ]
    }
   ],
   "source": [
    "import phonenumbers as ph\n",
    "from phonenumbers import carrier as car\n",
    "\n",
    "mobile_no = input('Enter your mobile number with country code: ')\n",
    "service_provider = ph.parse(mobile_no)\n",
    "print(car.name_for_number(service_provider,\"en\"))"
   ]
  }
 ],
 "metadata": {
  "kernelspec": {
   "display_name": "Python 3",
   "language": "python",
   "name": "python3"
  },
  "language_info": {
   "codemirror_mode": {
    "name": "ipython",
    "version": 3
   },
   "file_extension": ".py",
   "mimetype": "text/x-python",
   "name": "python",
   "nbconvert_exporter": "python",
   "pygments_lexer": "ipython3",
   "version": "3.7.4"
  }
 },
 "nbformat": 4,
 "nbformat_minor": 2
}
