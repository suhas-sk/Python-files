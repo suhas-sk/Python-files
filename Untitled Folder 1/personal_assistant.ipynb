{
 "cells": [
  {
   "cell_type": "code",
   "execution_count": 1,
   "metadata": {},
   "outputs": [],
   "source": [
    "import speech_recognition as sr\n",
    "import pyttsx3\n",
    "import wikipedia"
   ]
  },
  {
   "cell_type": "code",
   "execution_count": 2,
   "metadata": {},
   "outputs": [],
   "source": [
    "def speak(string):\n",
    "    engine = pyttsx3.init()\n",
    "    engine.say(string)\n",
    "    engine.runAndWait()\n",
    "    \n",
    "def userInput():\n",
    "    r = sr.Recognizer()\n",
    "    with sr.Microphone() as source :\n",
    "        print(\"Speak Now...\")\n",
    "        audio = r.listen(source)\n",
    "        query = r.recognize_google(audio)\n",
    "    return query"
   ]
  },
  {
   "cell_type": "code",
   "execution_count": 3,
   "metadata": {},
   "outputs": [],
   "source": [
    "def out():\n",
    "    query = userInput().lower()\n",
    "    print(f\"User said:{query}\")\n",
    "    results = wikipedia.summary(query,sentences=3)\n",
    "    print(\"Wikipedia Said:\")\n",
    "    speak(results)"
   ]
  },
  {
   "cell_type": "code",
   "execution_count": null,
   "metadata": {},
   "outputs": [
    {
     "name": "stdout",
     "output_type": "stream",
     "text": [
      "Speak Now...\n"
     ]
    }
   ],
   "source": [
    "speak(\"Hello\")\n",
    "speak(\"What do you want to search on Wikipedia?\")\n",
    "out()"
   ]
  },
  {
   "cell_type": "code",
   "execution_count": null,
   "metadata": {},
   "outputs": [],
   "source": []
  }
 ],
 "metadata": {
  "kernelspec": {
   "display_name": "Python 3",
   "language": "python",
   "name": "python3"
  },
  "language_info": {
   "codemirror_mode": {
    "name": "ipython",
    "version": 3
   },
   "file_extension": ".py",
   "mimetype": "text/x-python",
   "name": "python",
   "nbconvert_exporter": "python",
   "pygments_lexer": "ipython3",
   "version": "3.7.4"
  }
 },
 "nbformat": 4,
 "nbformat_minor": 2
}
