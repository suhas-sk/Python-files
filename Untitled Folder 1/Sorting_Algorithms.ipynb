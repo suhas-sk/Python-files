{
 "cells": [
  {
   "cell_type": "code",
   "execution_count": 7,
   "metadata": {},
   "outputs": [
    {
     "name": "stdout",
     "output_type": "stream",
     "text": [
      "4 6 2 7 \n",
      "Sorted array\n",
      "2  4  6  7  "
     ]
    }
   ],
   "source": [
    "#QuickSort\n",
    "def partition(arr,low,high):\n",
    "    i = low - 1\n",
    "    pivot = arr[high]\n",
    "    \n",
    "    for j in range(low,high):\n",
    "        if arr[j]<pivot:\n",
    "            i += 1     \n",
    "            arr[j],arr[i] = arr[i],arr[j]\n",
    "    arr[i+1],arr[high] = arr[high],arr[i+1]\n",
    "    return (i+1)\n",
    "\n",
    "\n",
    "def quicksort(arr,low,high):\n",
    "    if low < high:\n",
    "        \n",
    "        p = partition(arr,low,high)\n",
    "        \n",
    "        quicksort(arr,low,p-1)\n",
    "        quicksort(arr,p+1,high)\n",
    "\n",
    "arr = [int(i) for i in input().split()]\n",
    "low = 0\n",
    "high = len(arr)\n",
    "quicksort(arr,low,high-1)\n",
    "print(\"Sorted array\")\n",
    "for i in range(low,high):\n",
    "    print(arr[i],end=\"  \")\n",
    "        "
   ]
  },
  {
   "cell_type": "code",
   "execution_count": 13,
   "metadata": {},
   "outputs": [
    {
     "name": "stdout",
     "output_type": "stream",
     "text": [
      "3 4 1  2\n",
      "1 2 3 4 "
     ]
    }
   ],
   "source": [
    "#MergeSort\n",
    "def mergesort(arr):\n",
    "    if len(arr) > 1:\n",
    "        mid = len(arr)//2\n",
    "        \n",
    "        L = arr[:mid]\n",
    "        R = arr[mid:]\n",
    "        \n",
    "        i = j = k = 0\n",
    "        \n",
    "        mergesort(L)\n",
    "        mergesort(R)\n",
    "        \n",
    "        #i = j = k = 0\n",
    "        \n",
    "        while i<len(L) and j<len(R):\n",
    "            if L[i] < R[j]:\n",
    "                arr[k] = L[i]\n",
    "                i += 1\n",
    "            else:\n",
    "                arr[k] = R[j]\n",
    "                j += 1\n",
    "            k += 1\n",
    "            \n",
    "        #checking any element if left or not\n",
    "        while i < len(L):\n",
    "            arr[k] = L[i]\n",
    "            k += 1\n",
    "            i += 1\n",
    "        \n",
    "        while j < len(R):\n",
    "            arr[k] = R[j]\n",
    "            k += 1\n",
    "            j += 1\n",
    "            \n",
    "arr = [int(i) for i in input().split()]\n",
    "mergesort(arr)\n",
    "for i in range(len(arr)):\n",
    "    print(arr[i],end=\" \")\n",
    "            \n",
    "            \n",
    "            "
   ]
  },
  {
   "cell_type": "code",
   "execution_count": 58,
   "metadata": {},
   "outputs": [
    {
     "name": "stdout",
     "output_type": "stream",
     "text": [
      "3 5 2 5 5 1 1 \n",
      "1 1 2 3 5 5 5 "
     ]
    }
   ],
   "source": [
    "#InsertionSort\n",
    "def insertionsort(arr):\n",
    "    for i in range(1,len(arr)):\n",
    "        key = arr[i]\n",
    "        j = i - 1\n",
    "        while j >= 0 and key<arr[j]:\n",
    "            arr[j+1] = arr[j]\n",
    "            j-=1\n",
    "            \n",
    "        arr[j+1] = key\n",
    "\n",
    "arr = [int(i) for i in input().split()]\n",
    "insertionsort(arr)\n",
    "for i in range(len(arr)):\n",
    "    print(arr[i],end=\" \")"
   ]
  },
  {
   "cell_type": "code",
   "execution_count": 61,
   "metadata": {},
   "outputs": [
    {
     "name": "stdout",
     "output_type": "stream",
     "text": [
      " 4 3 2 1 7\n",
      "1 2 3 4 7 "
     ]
    }
   ],
   "source": [
    "#SelectionSort\n",
    "def selectionsort(arr):\n",
    "    for i in range(len(arr)):\n",
    "        min = i\n",
    "        for j in range(i+1,len(arr)):\n",
    "            if arr[j] < arr[min]:\n",
    "                min = j\n",
    "        arr[min], arr[i] = arr[i],arr[min]\n",
    "        \n",
    "arr = [int(i) for i in input().split()]\n",
    "selectionsort(arr)\n",
    "for i in range(len(arr)):\n",
    "    print(arr[i],end=\" \")"
   ]
  },
  {
   "cell_type": "code",
   "execution_count": 69,
   "metadata": {},
   "outputs": [
    {
     "name": "stdout",
     "output_type": "stream",
     "text": [
      "32 4 6 2 3\n",
      "2 3 4 6 32 "
     ]
    }
   ],
   "source": [
    "#BubbleSort\n",
    "def bubblesort(arr):\n",
    "    for i in range(len(arr)):\n",
    "        for j in range(len(arr)-1):\n",
    "            if arr[i] < arr[j]:\n",
    "                arr[i],arr[j] = arr[j],arr[i]\n",
    "\n",
    "arr = [int(i) for i in input().split()]\n",
    "bubblesort(arr)\n",
    "for i in range(len(arr)):\n",
    "    print(arr[i],end=\" \")"
   ]
  }
 ],
 "metadata": {
  "kernelspec": {
   "display_name": "Python 3",
   "language": "python",
   "name": "python3"
  },
  "language_info": {
   "codemirror_mode": {
    "name": "ipython",
    "version": 3
   },
   "file_extension": ".py",
   "mimetype": "text/x-python",
   "name": "python",
   "nbconvert_exporter": "python",
   "pygments_lexer": "ipython3",
   "version": "3.7.6"
  }
 },
 "nbformat": 4,
 "nbformat_minor": 4
}
