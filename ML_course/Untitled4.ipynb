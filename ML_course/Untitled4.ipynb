{
 "cells": [
  {
   "cell_type": "code",
   "execution_count": 1,
   "metadata": {},
   "outputs": [
    {
     "name": "stdout",
     "output_type": "stream",
     "text": [
      "[0.96666667 1.         0.96666667 0.96666667 1.        ]\n",
      "Mean 0.9800000000000001\n"
     ]
    }
   ],
   "source": [
    "#K-fold Cross Validation\n",
    "#K-fold Cross validation used as alternative for train_test_split\n",
    "#It shuffles the input reequired number of times\n",
    "\n",
    "#importing libraries \n",
    "from sklearn.neighbors import KNeighborsClassifier\n",
    "from sklearn.model_selection import cross_val_score\n",
    "from sklearn.datasets import load_iris\n",
    "from matplotlib import pyplot as plt\n",
    "from sklearn.model_selection import ShuffleSplit\n",
    "\n",
    "iris = load_iris() #loading the dataset\n",
    "X = iris.data\n",
    "y = iris.target\n",
    "\n",
    "knn = KNeighborsClassifier(n_neighbors=6)\n",
    "\n",
    "#Using cross validation\n",
    "score = cross_val_score(knn,X,y,cv=5,scoring='accuracy')\n",
    "# Here model is fitted with cross_val_score method\n",
    "#cv-iterations , shuffling for 5 times\n",
    "#scoring is accuracy\n",
    "print(score) #printing the scores\n",
    "print(\"Mean\",score.mean())   #printing the mean\n",
    "\n"
   ]
  },
  {
   "cell_type": "code",
   "execution_count": 2,
   "metadata": {},
   "outputs": [
    {
     "name": "stdout",
     "output_type": "stream",
     "text": [
      "[0.98333333 1.         0.93333333 0.98333333 0.95      ]\n",
      "Mean  0.9700000000000001\n"
     ]
    }
   ],
   "source": [
    "#Using ShuffleSplit\n",
    "n=X.shape[0]  #storing the number of rows in 'n'\n",
    "cv = ShuffleSplit(n_splits=5,test_size=0.4,random_state=42)\n",
    "scores = cross_val_score(knn,X,y,cv=cv,scoring='accuracy')  #selecting 5 rows randomly\n",
    "print(scores)    # ndarray is retruned \n",
    "print(\"Mean \",scores.mean())\n",
    "#Again accuracy changes by changing test_size,random_state, n_splits  i.e. iterations\n"
   ]
  },
  {
   "cell_type": "code",
   "execution_count": 3,
   "metadata": {},
   "outputs": [
    {
     "name": "stdout",
     "output_type": "stream",
     "text": [
      "k-value  12    Mean  0.9800000000000001\n",
      "k-value  13    Mean  0.9800000000000001\n",
      "k-value  14    Mean  0.9800000000000001\n",
      "k-value  15    Mean  0.9800000000000001\n",
      "k-value  16    Mean  0.9800000000000001\n",
      "k-value  17    Mean  0.9800000000000001\n",
      "k-value  18    Mean  0.9800000000000001\n",
      "k-value  19    Mean  0.9800000000000001\n",
      "k-value  20    Mean  0.9800000000000001\n",
      "k-value  21    Mean  0.9800000000000001\n"
     ]
    }
   ],
   "source": [
    "#K-fold Cross-Validation for k=12-22 and iterations=5 \n",
    "# Printing k-value,mean accuracy\n",
    "#Plotting a graph between k-values and mean values obtained from K-fold cross validation\n",
    "\n",
    "k_values=range(12,22)\n",
    "mean_values=[]\n",
    "\n",
    "for i in range(12,22):\n",
    "    knn_i = KNeighborsClassifier(n_neighbors=i)   \n",
    "    scores_i = cross_val_score(knn, X, y, cv=5, scoring='accuracy')\n",
    "    mean_values.append(scores_i)\n",
    "    mean=scores_i.mean()\n",
    "    print(\"k-value \",i,\"   Mean \",mean)\n"
   ]
  },
  {
   "cell_type": "code",
   "execution_count": 4,
   "metadata": {},
   "outputs": [
    {
     "data": {
      "image/png": "[encoded data removed]",
      "text/plain": [
       "<Figure size 432x288 with 1 Axes>"
      ]
     },
     "metadata": {
      "needs_background": "light"
     },
     "output_type": "display_data"
    }
   ],
   "source": [
    "#plotting the graph\n",
    "plt.plot(k_values,mean_values,color='blue')\n",
    "\n",
    "plt.xlabel(\"k-values\")\n",
    "plt.ylabel(\"Accuracy\")\n",
    "plt.title(\"K-fold Cross Validation\")\n",
    "plt.show()"
   ]
  }
 ],
 "metadata": {
  "kernelspec": {
   "display_name": "Python 3",
   "language": "python",
   "name": "python3"
  },
  "language_info": {
   "codemirror_mode": {
    "name": "ipython",
    "version": 3
   },
   "file_extension": ".py",
   "mimetype": "text/x-python",
   "name": "python",
   "nbconvert_exporter": "python",
   "pygments_lexer": "ipython3",
   "version": "3.7.6"
  }
 },
 "nbformat": 4,
 "nbformat_minor": 2
}
