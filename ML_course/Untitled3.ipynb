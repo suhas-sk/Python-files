{
 "cells": [
  {
   "cell_type": "code",
   "execution_count": 1,
   "metadata": {},
   "outputs": [
    {
     "data": {
      "text/plain": [
       "LogisticRegression(C=1.0, class_weight=None, dual=False, fit_intercept=True,\n",
       "                   intercept_scaling=1, l1_ratio=None, max_iter=100,\n",
       "                   multi_class='auto', n_jobs=None, penalty='l2',\n",
       "                   random_state=None, solver='lbfgs', tol=0.0001, verbose=0,\n",
       "                   warm_start=False)"
      ]
     },
     "execution_count": 1,
     "metadata": {},
     "output_type": "execute_result"
    }
   ],
   "source": [
    "#Logistic Regression, Knn-Algorithm choosing the most apprpriate i.e. Validation \n",
    "from sklearn.linear_model import LogisticRegression  \n",
    "from sklearn.model_selection import train_test_split\n",
    "from sklearn.datasets import load_iris\n",
    "from sklearn.metrics import accuracy_score\n",
    "from sklearn.neighbors import KNeighborsClassifier\n",
    "from matplotlib import pyplot as plt\n",
    "\n",
    "logreg = LogisticRegression()\n",
    "logreg"
   ]
  },
  {
   "cell_type": "code",
   "execution_count": 2,
   "metadata": {},
   "outputs": [],
   "source": [
    "iris = load_iris()\n",
    "X = iris.data\n",
    "y = iris.target\n",
    "#Splitting the data and target\n",
    "X_train,X_test,y_train,y_test = train_test_split(X,y,test_size=0.4,random_state=40) #40% rows are for testing"
   ]
  },
  {
   "cell_type": "code",
   "execution_count": 3,
   "metadata": {},
   "outputs": [
    {
     "name": "stdout",
     "output_type": "stream",
     "text": [
      "(90, 4) (60, 4) (90,) (60,)\n"
     ]
    }
   ],
   "source": [
    "print(X_train.shape,X_test.shape,y_train.shape,y_test.shape)"
   ]
  },
  {
   "cell_type": "code",
   "execution_count": 4,
   "metadata": {},
   "outputs": [
    {
     "data": {
      "text/plain": [
       "LogisticRegression(C=1.0, class_weight=None, dual=False, fit_intercept=True,\n",
       "                   intercept_scaling=1, l1_ratio=None, max_iter=100,\n",
       "                   multi_class='auto', n_jobs=None, penalty='l2',\n",
       "                   random_state=None, solver='lbfgs', tol=0.0001, verbose=0,\n",
       "                   warm_start=False)"
      ]
     },
     "execution_count": 4,
     "metadata": {},
     "output_type": "execute_result"
    }
   ],
   "source": [
    "#Fitting/Training the model\n",
    "logreg.fit(X_train,y_train)"
   ]
  },
  {
   "cell_type": "code",
   "execution_count": 5,
   "metadata": {},
   "outputs": [
    {
     "name": "stdout",
     "output_type": "stream",
     "text": [
      "[0 1 2 2 1 2 1 1 1 0 1 0 0 2 1 2 2 2 1 1 2 2 1 0 1 0 0 2 0 1 1 0 0 0 0 2 0\n",
      " 0 2 0 0 1 2 2 2 0 2 2 1 0 2 1 1 1 0 0 1 1 2 1]\n"
     ]
    }
   ],
   "source": [
    "#predictiong the output\n",
    "prediction = logreg.predict(X_test)\n",
    "print(prediction)"
   ]
  },
  {
   "cell_type": "code",
   "execution_count": 6,
   "metadata": {},
   "outputs": [
    {
     "data": {
      "text/plain": [
       "0.9833333333333333"
      ]
     },
     "execution_count": 6,
     "metadata": {},
     "output_type": "execute_result"
    }
   ],
   "source": [
    "#Calculating the accuracy\n",
    "accuracy_score(y_test,prediction)   #Checking the accuracy between expected ouput and observed output\n",
    "                                    #This accuracy can change by mainpulating the training and testing datasets"
   ]
  },
  {
   "cell_type": "code",
   "execution_count": 7,
   "metadata": {},
   "outputs": [
    {
     "name": "stdout",
     "output_type": "stream",
     "text": [
      "k-value 1    Accuracy 0.9666666666666667\n",
      "k-value 2    Accuracy 0.9166666666666666\n",
      "k-value 3    Accuracy 0.9166666666666666\n",
      "k-value 4    Accuracy 0.9166666666666666\n",
      "k-value 5    Accuracy 0.9166666666666666\n",
      "k-value 6    Accuracy 0.9166666666666666\n",
      "k-value 7    Accuracy 0.9166666666666666\n",
      "k-value 8    Accuracy 0.9166666666666666\n",
      "k-value 9    Accuracy 0.9333333333333333\n",
      "k-value 10    Accuracy 0.9333333333333333\n",
      "k-value 11    Accuracy 0.9333333333333333\n",
      "k-value 12    Accuracy 0.9166666666666666\n",
      "k-value 13    Accuracy 0.9333333333333333\n",
      "k-value 14    Accuracy 0.9166666666666666\n",
      "k-value 15    Accuracy 0.9166666666666666\n",
      "k-value 16    Accuracy 0.9166666666666666\n",
      "k-value 17    Accuracy 0.9333333333333333\n",
      "k-value 18    Accuracy 0.9333333333333333\n",
      "k-value 19    Accuracy 0.9333333333333333\n",
      "k-value 20    Accuracy 0.9166666666666666\n",
      "k-value 21    Accuracy 0.9166666666666666\n",
      "k-value 22    Accuracy 0.9166666666666666\n",
      "k-value 23    Accuracy 0.9166666666666666\n",
      "k-value 24    Accuracy 0.9166666666666666\n",
      "k-value 25    Accuracy 0.9166666666666666\n",
      "k-value 26    Accuracy 0.9166666666666666\n",
      "k-value 27    Accuracy 0.9166666666666666\n",
      "k-value 28    Accuracy 0.9166666666666666\n",
      "k-value 29    Accuracy 0.9166666666666666\n",
      "k-value 30    Accuracy 0.9\n"
     ]
    }
   ],
   "source": [
    "#Using knn algorithm\n",
    "X=[]\n",
    "Y=[]\n",
    "for i in range(1,31):\n",
    "    knn = KNeighborsClassifier(n_neighbors=i)\n",
    "    knn.fit(X_train,y_train)  #Training the model\n",
    "    k_predict = knn.predict(X_test)\n",
    "    #print(k_predict)\n",
    "    ac = accuracy_score(y_test,k_predict)\n",
    "    X.append(i)\n",
    "    Y.append(k_predict)\n",
    "    print(\"k-value\",i,\"  \",\"Accuracy\",ac)\n",
    "    "
   ]
  },
  {
   "cell_type": "code",
   "execution_count": 8,
   "metadata": {},
   "outputs": [
    {
     "data": {
      "image/png": "[encoded data removed]",
      "text/plain": [
       "<Figure size 432x288 with 1 Axes>"
      ]
     },
     "metadata": {
      "needs_background": "light"
     },
     "output_type": "display_data"
    }
   ],
   "source": [
    "#Logictic regression is appropriate\n",
    "#plotting a graph between k-values and accuracy\n",
    "plt.plot(X,Y,color='blue')\n",
    "\n",
    "plt.xlabel(\"k-values\")\n",
    "plt.ylabel(\"Accuracy\")\n",
    "plt.title(\"Validation\")\n",
    "\n",
    "plt.show()"
   ]
  },
  {
   "cell_type": "code",
   "execution_count": null,
   "metadata": {},
   "outputs": [],
   "source": []
  }
 ],
 "metadata": {
  "kernelspec": {
   "display_name": "Python 3",
   "language": "python",
   "name": "python3"
  },
  "language_info": {
   "codemirror_mode": {
    "name": "ipython",
    "version": 3
   },
   "file_extension": ".py",
   "mimetype": "text/x-python",
   "name": "python",
   "nbconvert_exporter": "python",
   "pygments_lexer": "ipython3",
   "version": "3.7.6"
  }
 },
 "nbformat": 4,
 "nbformat_minor": 2
}
