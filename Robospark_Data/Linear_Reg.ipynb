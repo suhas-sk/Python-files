{
 "cells": [
  {
   "cell_type": "code",
   "execution_count": 47,
   "metadata": {},
   "outputs": [],
   "source": [
    "import pandas as pd\n",
    "import numpy as np\n",
    "import matplotlib.pyplot as plt\n",
    "%matplotlib inline"
   ]
  },
  {
   "cell_type": "code",
   "execution_count": 3,
   "metadata": {},
   "outputs": [],
   "source": [
    "df = pd.read_csv('df_98039_new.csv')"
   ]
  },
  {
   "cell_type": "code",
   "execution_count": 4,
   "metadata": {},
   "outputs": [
    {
     "data": {
      "text/html": [
       "<div>\n",
       "<style scoped>\n",
       "    .dataframe tbody tr th:only-of-type {\n",
       "        vertical-align: middle;\n",
       "    }\n",
       "\n",
       "    .dataframe tbody tr th {\n",
       "        vertical-align: top;\n",
       "    }\n",
       "\n",
       "    .dataframe thead th {\n",
       "        text-align: right;\n",
       "    }\n",
       "</style>\n",
       "<table border=\"1\" class=\"dataframe\">\n",
       "  <thead>\n",
       "    <tr style=\"text-align: right;\">\n",
       "      <th></th>\n",
       "      <th>sqft_living</th>\n",
       "      <th>price</th>\n",
       "    </tr>\n",
       "  </thead>\n",
       "  <tbody>\n",
       "    <tr>\n",
       "      <th>0</th>\n",
       "      <td>4860</td>\n",
       "      <td>2950000.0</td>\n",
       "    </tr>\n",
       "    <tr>\n",
       "      <th>1</th>\n",
       "      <td>4210</td>\n",
       "      <td>1905000.0</td>\n",
       "    </tr>\n",
       "    <tr>\n",
       "      <th>2</th>\n",
       "      <td>1220</td>\n",
       "      <td>875000.0</td>\n",
       "    </tr>\n",
       "    <tr>\n",
       "      <th>3</th>\n",
       "      <td>1220</td>\n",
       "      <td>940000.0</td>\n",
       "    </tr>\n",
       "    <tr>\n",
       "      <th>4</th>\n",
       "      <td>7080</td>\n",
       "      <td>4000000.0</td>\n",
       "    </tr>\n",
       "    <tr>\n",
       "      <th>5</th>\n",
       "      <td>9200</td>\n",
       "      <td>5570000.0</td>\n",
       "    </tr>\n",
       "    <tr>\n",
       "      <th>6</th>\n",
       "      <td>1320</td>\n",
       "      <td>937500.0</td>\n",
       "    </tr>\n",
       "    <tr>\n",
       "      <th>7</th>\n",
       "      <td>2680</td>\n",
       "      <td>1160000.0</td>\n",
       "    </tr>\n",
       "    <tr>\n",
       "      <th>8</th>\n",
       "      <td>2620</td>\n",
       "      <td>1880000.0</td>\n",
       "    </tr>\n",
       "    <tr>\n",
       "      <th>9</th>\n",
       "      <td>5450</td>\n",
       "      <td>3418800.0</td>\n",
       "    </tr>\n",
       "    <tr>\n",
       "      <th>10</th>\n",
       "      <td>2870</td>\n",
       "      <td>1555000.0</td>\n",
       "    </tr>\n",
       "    <tr>\n",
       "      <th>11</th>\n",
       "      <td>2640</td>\n",
       "      <td>1398000.0</td>\n",
       "    </tr>\n",
       "    <tr>\n",
       "      <th>12</th>\n",
       "      <td>2680</td>\n",
       "      <td>1320000.0</td>\n",
       "    </tr>\n",
       "    <tr>\n",
       "      <th>13</th>\n",
       "      <td>9890</td>\n",
       "      <td>6885000.0</td>\n",
       "    </tr>\n",
       "    <tr>\n",
       "      <th>14</th>\n",
       "      <td>1530</td>\n",
       "      <td>865000.0</td>\n",
       "    </tr>\n",
       "    <tr>\n",
       "      <th>15</th>\n",
       "      <td>2300</td>\n",
       "      <td>1000000.0</td>\n",
       "    </tr>\n",
       "    <tr>\n",
       "      <th>16</th>\n",
       "      <td>3550</td>\n",
       "      <td>2100000.0</td>\n",
       "    </tr>\n",
       "    <tr>\n",
       "      <th>17</th>\n",
       "      <td>4780</td>\n",
       "      <td>2575000.0</td>\n",
       "    </tr>\n",
       "    <tr>\n",
       "      <th>18</th>\n",
       "      <td>2660</td>\n",
       "      <td>1712750.0</td>\n",
       "    </tr>\n",
       "    <tr>\n",
       "      <th>19</th>\n",
       "      <td>1580</td>\n",
       "      <td>787500.0</td>\n",
       "    </tr>\n",
       "    <tr>\n",
       "      <th>20</th>\n",
       "      <td>3640</td>\n",
       "      <td>1651000.0</td>\n",
       "    </tr>\n",
       "    <tr>\n",
       "      <th>21</th>\n",
       "      <td>4460</td>\n",
       "      <td>1800000.0</td>\n",
       "    </tr>\n",
       "    <tr>\n",
       "      <th>22</th>\n",
       "      <td>2950</td>\n",
       "      <td>1550000.0</td>\n",
       "    </tr>\n",
       "    <tr>\n",
       "      <th>23</th>\n",
       "      <td>3060</td>\n",
       "      <td>1762000.0</td>\n",
       "    </tr>\n",
       "    <tr>\n",
       "      <th>24</th>\n",
       "      <td>2740</td>\n",
       "      <td>1225000.0</td>\n",
       "    </tr>\n",
       "    <tr>\n",
       "      <th>25</th>\n",
       "      <td>4430</td>\n",
       "      <td>2750000.0</td>\n",
       "    </tr>\n",
       "    <tr>\n",
       "      <th>26</th>\n",
       "      <td>4150</td>\n",
       "      <td>1950000.0</td>\n",
       "    </tr>\n",
       "    <tr>\n",
       "      <th>27</th>\n",
       "      <td>3570</td>\n",
       "      <td>2200000.0</td>\n",
       "    </tr>\n",
       "    <tr>\n",
       "      <th>28</th>\n",
       "      <td>3110</td>\n",
       "      <td>1260000.0</td>\n",
       "    </tr>\n",
       "    <tr>\n",
       "      <th>29</th>\n",
       "      <td>4670</td>\n",
       "      <td>2450000.0</td>\n",
       "    </tr>\n",
       "    <tr>\n",
       "      <th>30</th>\n",
       "      <td>4830</td>\n",
       "      <td>3640900.0</td>\n",
       "    </tr>\n",
       "    <tr>\n",
       "      <th>31</th>\n",
       "      <td>4040</td>\n",
       "      <td>2271150.0</td>\n",
       "    </tr>\n",
       "    <tr>\n",
       "      <th>32</th>\n",
       "      <td>2350</td>\n",
       "      <td>1620000.0</td>\n",
       "    </tr>\n",
       "    <tr>\n",
       "      <th>33</th>\n",
       "      <td>5550</td>\n",
       "      <td>3710000.0</td>\n",
       "    </tr>\n",
       "    <tr>\n",
       "      <th>34</th>\n",
       "      <td>2150</td>\n",
       "      <td>1200000.0</td>\n",
       "    </tr>\n",
       "    <tr>\n",
       "      <th>35</th>\n",
       "      <td>4300</td>\n",
       "      <td>2500000.0</td>\n",
       "    </tr>\n",
       "    <tr>\n",
       "      <th>36</th>\n",
       "      <td>4240</td>\n",
       "      <td>2187730.0</td>\n",
       "    </tr>\n",
       "    <tr>\n",
       "      <th>37</th>\n",
       "      <td>3090</td>\n",
       "      <td>1450000.0</td>\n",
       "    </tr>\n",
       "    <tr>\n",
       "      <th>38</th>\n",
       "      <td>3260</td>\n",
       "      <td>1880000.0</td>\n",
       "    </tr>\n",
       "    <tr>\n",
       "      <th>39</th>\n",
       "      <td>6500</td>\n",
       "      <td>2458000.0</td>\n",
       "    </tr>\n",
       "    <tr>\n",
       "      <th>40</th>\n",
       "      <td>2070</td>\n",
       "      <td>1350000.0</td>\n",
       "    </tr>\n",
       "    <tr>\n",
       "      <th>41</th>\n",
       "      <td>4290</td>\n",
       "      <td>2680000.0</td>\n",
       "    </tr>\n",
       "    <tr>\n",
       "      <th>42</th>\n",
       "      <td>3250</td>\n",
       "      <td>1410000.0</td>\n",
       "    </tr>\n",
       "    <tr>\n",
       "      <th>43</th>\n",
       "      <td>3070</td>\n",
       "      <td>1920000.0</td>\n",
       "    </tr>\n",
       "    <tr>\n",
       "      <th>44</th>\n",
       "      <td>5490</td>\n",
       "      <td>3635000.0</td>\n",
       "    </tr>\n",
       "    <tr>\n",
       "      <th>45</th>\n",
       "      <td>3990</td>\n",
       "      <td>2720000.0</td>\n",
       "    </tr>\n",
       "    <tr>\n",
       "      <th>46</th>\n",
       "      <td>4065</td>\n",
       "      <td>1950000.0</td>\n",
       "    </tr>\n",
       "    <tr>\n",
       "      <th>47</th>\n",
       "      <td>3410</td>\n",
       "      <td>2250000.0</td>\n",
       "    </tr>\n",
       "    <tr>\n",
       "      <th>48</th>\n",
       "      <td>5190</td>\n",
       "      <td>2900000.0</td>\n",
       "    </tr>\n",
       "    <tr>\n",
       "      <th>49</th>\n",
       "      <td>3790</td>\n",
       "      <td>1865000.0</td>\n",
       "    </tr>\n",
       "  </tbody>\n",
       "</table>\n",
       "</div>"
      ],
      "text/plain": [
       "    sqft_living      price\n",
       "0          4860  2950000.0\n",
       "1          4210  1905000.0\n",
       "2          1220   875000.0\n",
       "3          1220   940000.0\n",
       "4          7080  4000000.0\n",
       "5          9200  5570000.0\n",
       "6          1320   937500.0\n",
       "7          2680  1160000.0\n",
       "8          2620  1880000.0\n",
       "9          5450  3418800.0\n",
       "10         2870  1555000.0\n",
       "11         2640  1398000.0\n",
       "12         2680  1320000.0\n",
       "13         9890  6885000.0\n",
       "14         1530   865000.0\n",
       "15         2300  1000000.0\n",
       "16         3550  2100000.0\n",
       "17         4780  2575000.0\n",
       "18         2660  1712750.0\n",
       "19         1580   787500.0\n",
       "20         3640  1651000.0\n",
       "21         4460  1800000.0\n",
       "22         2950  1550000.0\n",
       "23         3060  1762000.0\n",
       "24         2740  1225000.0\n",
       "25         4430  2750000.0\n",
       "26         4150  1950000.0\n",
       "27         3570  2200000.0\n",
       "28         3110  1260000.0\n",
       "29         4670  2450000.0\n",
       "30         4830  3640900.0\n",
       "31         4040  2271150.0\n",
       "32         2350  1620000.0\n",
       "33         5550  3710000.0\n",
       "34         2150  1200000.0\n",
       "35         4300  2500000.0\n",
       "36         4240  2187730.0\n",
       "37         3090  1450000.0\n",
       "38         3260  1880000.0\n",
       "39         6500  2458000.0\n",
       "40         2070  1350000.0\n",
       "41         4290  2680000.0\n",
       "42         3250  1410000.0\n",
       "43         3070  1920000.0\n",
       "44         5490  3635000.0\n",
       "45         3990  2720000.0\n",
       "46         4065  1950000.0\n",
       "47         3410  2250000.0\n",
       "48         5190  2900000.0\n",
       "49         3790  1865000.0"
      ]
     },
     "execution_count": 4,
     "metadata": {},
     "output_type": "execute_result"
    }
   ],
   "source": [
    "df"
   ]
  },
  {
   "cell_type": "code",
   "execution_count": 5,
   "metadata": {},
   "outputs": [],
   "source": [
    "X = df['sqft_living']     #independetn variable\n",
    "y = df['price']    #dependent variable"
   ]
  },
  {
   "cell_type": "code",
   "execution_count": 6,
   "metadata": {},
   "outputs": [
    {
     "data": {
      "text/plain": [
       "0     4860\n",
       "1     4210\n",
       "2     1220\n",
       "3     1220\n",
       "4     7080\n",
       "5     9200\n",
       "6     1320\n",
       "7     2680\n",
       "8     2620\n",
       "9     5450\n",
       "10    2870\n",
       "11    2640\n",
       "12    2680\n",
       "13    9890\n",
       "14    1530\n",
       "15    2300\n",
       "16    3550\n",
       "17    4780\n",
       "18    2660\n",
       "19    1580\n",
       "20    3640\n",
       "21    4460\n",
       "22    2950\n",
       "23    3060\n",
       "24    2740\n",
       "25    4430\n",
       "26    4150\n",
       "27    3570\n",
       "28    3110\n",
       "29    4670\n",
       "30    4830\n",
       "31    4040\n",
       "32    2350\n",
       "33    5550\n",
       "34    2150\n",
       "35    4300\n",
       "36    4240\n",
       "37    3090\n",
       "38    3260\n",
       "39    6500\n",
       "40    2070\n",
       "41    4290\n",
       "42    3250\n",
       "43    3070\n",
       "44    5490\n",
       "45    3990\n",
       "46    4065\n",
       "47    3410\n",
       "48    5190\n",
       "49    3790\n",
       "Name: sqft_living, dtype: int64"
      ]
     },
     "execution_count": 6,
     "metadata": {},
     "output_type": "execute_result"
    }
   ],
   "source": [
    "X   #type(X) Series"
   ]
  },
  {
   "cell_type": "code",
   "execution_count": 8,
   "metadata": {},
   "outputs": [
    {
     "data": {
      "text/plain": [
       "pandas.core.series.Series"
      ]
     },
     "execution_count": 8,
     "metadata": {},
     "output_type": "execute_result"
    }
   ],
   "source": [
    "type(y)    #type(y)-Series"
   ]
  },
  {
   "cell_type": "code",
   "execution_count": 14,
   "metadata": {},
   "outputs": [
    {
     "data": {
      "text/plain": [
       "[<matplotlib.lines.Line2D at 0x1ecb600cd48>]"
      ]
     },
     "execution_count": 14,
     "metadata": {},
     "output_type": "execute_result"
    },
    {
     "data": {
      "image/png": "[encoded data removed]",
      "text/plain": [
       "<Figure size 432x288 with 1 Axes>"
      ]
     },
     "metadata": {
      "needs_background": "light"
     },
     "output_type": "display_data"
    }
   ],
   "source": [
    "fig, ax = plt.subplots()\n",
    "ax.plot(X,y,'o',color='r',label='training data')\n",
    "ax.plot(X,40000+400*X,label='h(X)=40000+400*X')"
   ]
  },
  {
   "cell_type": "code",
   "execution_count": 17,
   "metadata": {},
   "outputs": [
    {
     "data": {
      "text/plain": [
       "<matplotlib.legend.Legend at 0x1ecb959ee88>"
      ]
     },
     "execution_count": 17,
     "metadata": {},
     "output_type": "execute_result"
    },
    {
     "data": {
      "image/png": "[encoded data removed]",
      "text/plain": [
       "<Figure size 432x288 with 1 Axes>"
      ]
     },
     "metadata": {
      "needs_background": "light"
     },
     "output_type": "display_data"
    }
   ],
   "source": [
    "fig, ax = plt.subplots()\n",
    "ax.plot(X,y,'o',color='r',label='training data')\n",
    "ax.plot(X,5000+600*X,label='h(X)=5000+600*X')\n",
    "plt.legend()"
   ]
  },
  {
   "cell_type": "code",
   "execution_count": 43,
   "metadata": {},
   "outputs": [],
   "source": [
    "#parabola function\n",
    "def f(x):\n",
    "    f = x**2\n",
    "    return f\n",
    "\n",
    "def Df(x):   #Descent function\n",
    "    return 2*x\n",
    "\n",
    "def update(x,alpha):\n",
    "    up = x-alpha*Df(x)\n",
    "    return up\n"
   ]
  },
  {
   "cell_type": "code",
   "execution_count": 57,
   "metadata": {},
   "outputs": [
    {
     "data": {
      "text/plain": [
       "array([-2.        , -1.91836735, -1.83673469, -1.75510204, -1.67346939,\n",
       "       -1.59183673, -1.51020408, -1.42857143, -1.34693878, -1.26530612,\n",
       "       -1.18367347, -1.10204082, -1.02040816, -0.93877551, -0.85714286,\n",
       "       -0.7755102 , -0.69387755, -0.6122449 , -0.53061224, -0.44897959,\n",
       "       -0.36734694, -0.28571429, -0.20408163, -0.12244898, -0.04081633,\n",
       "        0.04081633,  0.12244898,  0.20408163,  0.28571429,  0.36734694,\n",
       "        0.44897959,  0.53061224,  0.6122449 ,  0.69387755,  0.7755102 ,\n",
       "        0.85714286,  0.93877551,  1.02040816,  1.10204082,  1.18367347,\n",
       "        1.26530612,  1.34693878,  1.42857143,  1.51020408,  1.59183673,\n",
       "        1.67346939,  1.75510204,  1.83673469,  1.91836735,  2.        ])"
      ]
     },
     "execution_count": 57,
     "metadata": {},
     "output_type": "execute_result"
    }
   ],
   "source": [
    "x = np.linspace(-2,2)\n",
    "x"
   ]
  },
  {
   "cell_type": "code",
   "execution_count": 50,
   "metadata": {},
   "outputs": [],
   "source": [
    "def plot_s(guess,alpha,epoch):  #epoch - no. of iterations\n",
    "    fig, ax = plt.subplots()\n",
    "    x = np.linspace(-5,5,100)\n",
    "    ax.plot(x,f(x))\n",
    "    x = guess\n",
    "    x1 = alpha\n",
    "    ax.plot(x,f(x),'o',label='start x-%.2f' %x)\n",
    "    for i in range(epoch):\n",
    "        xold = x\n",
    "        x = update(x,x1)\n",
    "        ax.plot(x,f(x),'o',label='start x-%.2f' %x)\n",
    "        ax.plot([xold,x],[f(xold),f(x)],'-')\n",
    "    plt.legend()\n",
    "        \n",
    "        "
   ]
  },
  {
   "cell_type": "code",
   "execution_count": 51,
   "metadata": {},
   "outputs": [
    {
     "data": {
      "image/png": "[encoded data removed]",
      "text/plain": [
       "<Figure size 432x288 with 1 Axes>"
      ]
     },
     "metadata": {
      "needs_background": "light"
     },
     "output_type": "display_data"
    }
   ],
   "source": [
    "plot_s(-2,0.6,10)   #aplha is learning Rate"
   ]
  },
  {
   "cell_type": "code",
   "execution_count": 53,
   "metadata": {},
   "outputs": [
    {
     "data": {
      "image/png": "[encoded data removed]",
      "text/plain": [
       "<Figure size 432x288 with 1 Axes>"
      ]
     },
     "metadata": {
      "needs_background": "light"
     },
     "output_type": "display_data"
    }
   ],
   "source": [
    "plot_s(-3,0.9,10)"
   ]
  },
  {
   "cell_type": "code",
   "execution_count": 54,
   "metadata": {},
   "outputs": [
    {
     "data": {
      "image/png": "[encoded data removed]",
      "text/plain": [
       "<Figure size 432x288 with 1 Axes>"
      ]
     },
     "metadata": {
      "needs_background": "light"
     },
     "output_type": "display_data"
    }
   ],
   "source": [
    "plot_s(-3,0.1,10)"
   ]
  },
  {
   "cell_type": "code",
   "execution_count": null,
   "metadata": {},
   "outputs": [],
   "source": []
  },
  {
   "cell_type": "code",
   "execution_count": null,
   "metadata": {},
   "outputs": [],
   "source": []
  }
 ],
 "metadata": {
  "kernelspec": {
   "display_name": "Python 3",
   "language": "python",
   "name": "python3"
  },
  "language_info": {
   "codemirror_mode": {
    "name": "ipython",
    "version": 3
   },
   "file_extension": ".py",
   "mimetype": "text/x-python",
   "name": "python",
   "nbconvert_exporter": "python",
   "pygments_lexer": "ipython3",
   "version": "3.7.6"
  }
 },
 "nbformat": 4,
 "nbformat_minor": 4
}
